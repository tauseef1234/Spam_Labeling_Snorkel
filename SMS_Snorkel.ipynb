{
  "nbformat": 4,
  "nbformat_minor": 0,
  "metadata": {
    "colab": {
      "name": "SMS_Snorkel.ipynb",
      "provenance": [],
      "collapsed_sections": [],
      "include_colab_link": true
    },
    "kernelspec": {
      "name": "python3",
      "display_name": "Python 3"
    }
  },
  "cells": [
    {
      "cell_type": "markdown",
      "metadata": {
        "id": "view-in-github",
        "colab_type": "text"
      },
      "source": [
        "<a href=\"https://colab.research.google.com/github/tauseef1234/Spam_Labeling_Snorkel/blob/main/SMS_Snorkel.ipynb\" target=\"_parent\"><img src=\"https://colab.research.google.com/assets/colab-badge.svg\" alt=\"Open In Colab\"/></a>"
      ]
    },
    {
      "cell_type": "markdown",
      "metadata": {
        "id": "j8qGhoAt-h5-"
      },
      "source": [
        "# Snorkel - Data labeling using weak supervision on SMS Spam Collection Data Set\n",
        "\n",
        "-----\n",
        "\n",
        "## Brief introduction to Snorkel\n",
        "\n",
        "Creating labelled training sets is an expensive and time consuming task for building a machine learning model. The traditional approach to perform this task is to hire a team that would label the data manually.\n",
        "\n",
        "Snorkel provides a framework to programtically label, build and manage training data with [*weak supervision*](https://www.snorkel.org/blog/weak-supervision). Below image shows Snorkel's architecture which consists of three main stages:\n",
        "\n",
        "1. Writing labeling functions (LFs): Labeling function provides an abstracted way to express various heuristic or noisy programmatic labeling strategies. by employing different kinds of weak supervision sources: patterns, heuristics, external knowledge bases, crowdsourced labels, etc.\n",
        "\n",
        "2. Modeling accuracies and correlations: Snorkel creates a generative model based on labeling functions’ correlations, that is, where they agree or disagree.\n",
        "\n",
        "3. Training a discriminative model: While the output is probabilistic labels, the ultimate goal is to train a discriminative model (such as popular ML models) that will be able to generalize beyond the noisy generative model.\n",
        "\n",
        "<img src = 'https://miro.medium.com/max/2000/1*2vim0mfyVRCH_f9cZ90iag.png'>"
      ]
    },
    {
      "cell_type": "markdown",
      "metadata": {
        "id": "SqFtzZu155P2"
      },
      "source": [
        "## Objective\n",
        "\n",
        "The objective of this ML project is to train a classifier over text data that can predict whether a text message is spam or not spam. The dataset used for this project has been collected from [papers with code](https://paperswithcode.com/) website. More details about source of the dataset can be found [here](https://paperswithcode.com/dataset/sms-spam-collection-data-set).\n",
        "\n",
        "\n",
        "**Install snorkel**"
      ]
    },
    {
      "cell_type": "code",
      "metadata": {
        "colab": {
          "base_uri": "https://localhost:8080/"
        },
        "id": "0gyzec35u3us",
        "outputId": "517a4af5-d0cf-4599-92cc-b4b923ac2b7c"
      },
      "source": [
        "!pip install snorkel==0.9.7"
      ],
      "execution_count": null,
      "outputs": [
        {
          "output_type": "stream",
          "text": [
            "Requirement already satisfied: snorkel==0.9.7 in /usr/local/lib/python3.7/dist-packages (0.9.7)\n",
            "Requirement already satisfied: scipy<2.0.0,>=1.2.0 in /usr/local/lib/python3.7/dist-packages (from snorkel==0.9.7) (1.4.1)\n",
            "Requirement already satisfied: pandas<2.0.0,>=1.0.0 in /usr/local/lib/python3.7/dist-packages (from snorkel==0.9.7) (1.1.5)\n",
            "Requirement already satisfied: numpy<1.20.0,>=1.16.5 in /usr/local/lib/python3.7/dist-packages (from snorkel==0.9.7) (1.19.5)\n",
            "Requirement already satisfied: networkx<2.4,>=2.2 in /usr/local/lib/python3.7/dist-packages (from snorkel==0.9.7) (2.3)\n",
            "Requirement already satisfied: munkres>=1.0.6 in /usr/local/lib/python3.7/dist-packages (from snorkel==0.9.7) (1.1.4)\n",
            "Requirement already satisfied: tqdm<5.0.0,>=4.33.0 in /usr/local/lib/python3.7/dist-packages (from snorkel==0.9.7) (4.41.1)\n",
            "Requirement already satisfied: torch<2.0.0,>=1.2.0 in /usr/local/lib/python3.7/dist-packages (from snorkel==0.9.7) (1.9.0+cu102)\n",
            "Requirement already satisfied: tensorboard<2.0.0,>=1.14.0 in /usr/local/lib/python3.7/dist-packages (from snorkel==0.9.7) (1.15.0)\n",
            "Requirement already satisfied: scikit-learn<0.25.0,>=0.20.2 in /usr/local/lib/python3.7/dist-packages (from snorkel==0.9.7) (0.22.2.post1)\n",
            "Requirement already satisfied: pytz>=2017.2 in /usr/local/lib/python3.7/dist-packages (from pandas<2.0.0,>=1.0.0->snorkel==0.9.7) (2018.9)\n",
            "Requirement already satisfied: python-dateutil>=2.7.3 in /usr/local/lib/python3.7/dist-packages (from pandas<2.0.0,>=1.0.0->snorkel==0.9.7) (2.8.1)\n",
            "Requirement already satisfied: decorator>=4.3.0 in /usr/local/lib/python3.7/dist-packages (from networkx<2.4,>=2.2->snorkel==0.9.7) (4.4.2)\n",
            "Requirement already satisfied: typing-extensions in /usr/local/lib/python3.7/dist-packages (from torch<2.0.0,>=1.2.0->snorkel==0.9.7) (3.7.4.3)\n",
            "Requirement already satisfied: protobuf>=3.6.0 in /usr/local/lib/python3.7/dist-packages (from tensorboard<2.0.0,>=1.14.0->snorkel==0.9.7) (3.17.3)\n",
            "Requirement already satisfied: grpcio>=1.6.3 in /usr/local/lib/python3.7/dist-packages (from tensorboard<2.0.0,>=1.14.0->snorkel==0.9.7) (1.34.1)\n",
            "Requirement already satisfied: werkzeug>=0.11.15 in /usr/local/lib/python3.7/dist-packages (from tensorboard<2.0.0,>=1.14.0->snorkel==0.9.7) (1.0.1)\n",
            "Requirement already satisfied: wheel>=0.26; python_version >= \"3\" in /usr/local/lib/python3.7/dist-packages (from tensorboard<2.0.0,>=1.14.0->snorkel==0.9.7) (0.36.2)\n",
            "Requirement already satisfied: markdown>=2.6.8 in /usr/local/lib/python3.7/dist-packages (from tensorboard<2.0.0,>=1.14.0->snorkel==0.9.7) (3.3.4)\n",
            "Requirement already satisfied: six>=1.10.0 in /usr/local/lib/python3.7/dist-packages (from tensorboard<2.0.0,>=1.14.0->snorkel==0.9.7) (1.15.0)\n",
            "Requirement already satisfied: setuptools>=41.0.0 in /usr/local/lib/python3.7/dist-packages (from tensorboard<2.0.0,>=1.14.0->snorkel==0.9.7) (57.2.0)\n",
            "Requirement already satisfied: absl-py>=0.4 in /usr/local/lib/python3.7/dist-packages (from tensorboard<2.0.0,>=1.14.0->snorkel==0.9.7) (0.12.0)\n",
            "Requirement already satisfied: joblib>=0.11 in /usr/local/lib/python3.7/dist-packages (from scikit-learn<0.25.0,>=0.20.2->snorkel==0.9.7) (1.0.1)\n",
            "Requirement already satisfied: importlib-metadata; python_version < \"3.8\" in /usr/local/lib/python3.7/dist-packages (from markdown>=2.6.8->tensorboard<2.0.0,>=1.14.0->snorkel==0.9.7) (4.6.1)\n",
            "Requirement already satisfied: zipp>=0.5 in /usr/local/lib/python3.7/dist-packages (from importlib-metadata; python_version < \"3.8\"->markdown>=2.6.8->tensorboard<2.0.0,>=1.14.0->snorkel==0.9.7) (3.5.0)\n"
          ],
          "name": "stdout"
        }
      ]
    },
    {
      "cell_type": "markdown",
      "metadata": {
        "id": "CDU8D_8Td-IY"
      },
      "source": [
        "**Import Packages**"
      ]
    },
    {
      "cell_type": "code",
      "metadata": {
        "id": "s_Axz2kLYHH2"
      },
      "source": [
        "# import packages\n",
        "import pandas as pd\n",
        "import numpy as np\n",
        "import re"
      ],
      "execution_count": null,
      "outputs": []
    },
    {
      "cell_type": "markdown",
      "metadata": {
        "id": "4Zr8Z0JGd9LM"
      },
      "source": [
        "\n",
        "\n",
        "## Read the dataset"
      ]
    },
    {
      "cell_type": "code",
      "metadata": {
        "id": "u2Xnb0ScIdHD",
        "colab": {
          "base_uri": "https://localhost:8080/",
          "height": 403
        },
        "outputId": "ecec49d8-f49b-4bb7-a3d2-0b13a3c1b10b"
      },
      "source": [
        "#read spam dataset\n",
        "df_sms = pd.read_csv('https://raw.githubusercontent.com/tauseef1234/Datasets/main/spam.csv',encoding='ISO-8859-1')\n",
        "df_sms.info()\n",
        "df_sms.head()"
      ],
      "execution_count": null,
      "outputs": [
        {
          "output_type": "stream",
          "text": [
            "<class 'pandas.core.frame.DataFrame'>\n",
            "RangeIndex: 5572 entries, 0 to 5571\n",
            "Data columns (total 5 columns):\n",
            " #   Column      Non-Null Count  Dtype \n",
            "---  ------      --------------  ----- \n",
            " 0   v1          5572 non-null   object\n",
            " 1   v2          5572 non-null   object\n",
            " 2   Unnamed: 2  50 non-null     object\n",
            " 3   Unnamed: 3  12 non-null     object\n",
            " 4   Unnamed: 4  6 non-null      object\n",
            "dtypes: object(5)\n",
            "memory usage: 217.8+ KB\n"
          ],
          "name": "stdout"
        },
        {
          "output_type": "execute_result",
          "data": {
            "text/html": [
              "<div>\n",
              "<style scoped>\n",
              "    .dataframe tbody tr th:only-of-type {\n",
              "        vertical-align: middle;\n",
              "    }\n",
              "\n",
              "    .dataframe tbody tr th {\n",
              "        vertical-align: top;\n",
              "    }\n",
              "\n",
              "    .dataframe thead th {\n",
              "        text-align: right;\n",
              "    }\n",
              "</style>\n",
              "<table border=\"1\" class=\"dataframe\">\n",
              "  <thead>\n",
              "    <tr style=\"text-align: right;\">\n",
              "      <th></th>\n",
              "      <th>v1</th>\n",
              "      <th>v2</th>\n",
              "      <th>Unnamed: 2</th>\n",
              "      <th>Unnamed: 3</th>\n",
              "      <th>Unnamed: 4</th>\n",
              "    </tr>\n",
              "  </thead>\n",
              "  <tbody>\n",
              "    <tr>\n",
              "      <th>0</th>\n",
              "      <td>ham</td>\n",
              "      <td>Go until jurong point, crazy.. Available only ...</td>\n",
              "      <td>NaN</td>\n",
              "      <td>NaN</td>\n",
              "      <td>NaN</td>\n",
              "    </tr>\n",
              "    <tr>\n",
              "      <th>1</th>\n",
              "      <td>ham</td>\n",
              "      <td>Ok lar... Joking wif u oni...</td>\n",
              "      <td>NaN</td>\n",
              "      <td>NaN</td>\n",
              "      <td>NaN</td>\n",
              "    </tr>\n",
              "    <tr>\n",
              "      <th>2</th>\n",
              "      <td>spam</td>\n",
              "      <td>Free entry in 2 a wkly comp to win FA Cup fina...</td>\n",
              "      <td>NaN</td>\n",
              "      <td>NaN</td>\n",
              "      <td>NaN</td>\n",
              "    </tr>\n",
              "    <tr>\n",
              "      <th>3</th>\n",
              "      <td>ham</td>\n",
              "      <td>U dun say so early hor... U c already then say...</td>\n",
              "      <td>NaN</td>\n",
              "      <td>NaN</td>\n",
              "      <td>NaN</td>\n",
              "    </tr>\n",
              "    <tr>\n",
              "      <th>4</th>\n",
              "      <td>ham</td>\n",
              "      <td>Nah I don't think he goes to usf, he lives aro...</td>\n",
              "      <td>NaN</td>\n",
              "      <td>NaN</td>\n",
              "      <td>NaN</td>\n",
              "    </tr>\n",
              "  </tbody>\n",
              "</table>\n",
              "</div>"
            ],
            "text/plain": [
              "     v1  ... Unnamed: 4\n",
              "0   ham  ...        NaN\n",
              "1   ham  ...        NaN\n",
              "2  spam  ...        NaN\n",
              "3   ham  ...        NaN\n",
              "4   ham  ...        NaN\n",
              "\n",
              "[5 rows x 5 columns]"
            ]
          },
          "metadata": {
            "tags": []
          },
          "execution_count": 3
        }
      ]
    },
    {
      "cell_type": "markdown",
      "metadata": {
        "id": "eBHNth_78qdN"
      },
      "source": [
        "Some of the messages in the raw file is spread across multiple columns. We append all the text in a single column and then drop the remaining columns."
      ]
    },
    {
      "cell_type": "code",
      "metadata": {
        "id": "dtRRcPuX8vMp"
      },
      "source": [
        "# replacing nan with blank space\n",
        "cols =['Unnamed: 2','Unnamed: 3','Unnamed: 4']\n",
        "for col in cols:\n",
        "  df_sms[col].replace(np.nan,'',regex=True, inplace=True)"
      ],
      "execution_count": null,
      "outputs": []
    },
    {
      "cell_type": "code",
      "metadata": {
        "id": "lTnCFN7RyDGo"
      },
      "source": [
        "# concatnating all columns\n",
        "df_sms['v2']=df_sms['v2'] + df_sms['Unnamed: 2'].astype(str) + df_sms['Unnamed: 3'].astype(str) + df_sms['Unnamed: 4'].astype(str)"
      ],
      "execution_count": null,
      "outputs": []
    },
    {
      "cell_type": "code",
      "metadata": {
        "id": "_gHwVLDCyWlH"
      },
      "source": [
        "# drop the unnamed columns\n",
        "df_sms.drop(columns=cols,inplace=True)"
      ],
      "execution_count": null,
      "outputs": []
    },
    {
      "cell_type": "markdown",
      "metadata": {
        "id": "Jwlnj3Ys_phs"
      },
      "source": [
        "**Prepare the train and test dataset**"
      ]
    },
    {
      "cell_type": "code",
      "metadata": {
        "id": "EeZWfjyZHGYn"
      },
      "source": [
        "# rename fields\n",
        "df_sms = df_sms.rename(columns={\"v1\": \"label\", \"v2\": \"text\"})\n",
        "# shuffle order\n",
        "df_sms = df_sms.sample(frac=1, random_state=123).reset_index(drop=True)\n",
        "\n",
        "# split the data into train and test datasets\n",
        "from sklearn.model_selection import train_test_split\n",
        "df_train, df_test = train_test_split(\n",
        "        df_sms, test_size=0.2, random_state=123, stratify=df_sms.label\n",
        "    )"
      ],
      "execution_count": null,
      "outputs": []
    },
    {
      "cell_type": "code",
      "metadata": {
        "id": "Sx-EOqO6IDYv",
        "colab": {
          "base_uri": "https://localhost:8080/",
          "height": 421
        },
        "outputId": "d9dce132-8e0b-4fd4-d047-9e9c0d6b8311"
      },
      "source": [
        "# display train and test data\n",
        "print(\"Train\")\n",
        "display(df_train.head())\n",
        "print('Test')\n",
        "df_test.head()"
      ],
      "execution_count": null,
      "outputs": [
        {
          "output_type": "stream",
          "text": [
            "Train\n"
          ],
          "name": "stdout"
        },
        {
          "output_type": "display_data",
          "data": {
            "text/html": [
              "<div>\n",
              "<style scoped>\n",
              "    .dataframe tbody tr th:only-of-type {\n",
              "        vertical-align: middle;\n",
              "    }\n",
              "\n",
              "    .dataframe tbody tr th {\n",
              "        vertical-align: top;\n",
              "    }\n",
              "\n",
              "    .dataframe thead th {\n",
              "        text-align: right;\n",
              "    }\n",
              "</style>\n",
              "<table border=\"1\" class=\"dataframe\">\n",
              "  <thead>\n",
              "    <tr style=\"text-align: right;\">\n",
              "      <th></th>\n",
              "      <th>label</th>\n",
              "      <th>text</th>\n",
              "    </tr>\n",
              "  </thead>\n",
              "  <tbody>\n",
              "    <tr>\n",
              "      <th>4114</th>\n",
              "      <td>ham</td>\n",
              "      <td>Double eviction this week - Spiral and Michael...</td>\n",
              "    </tr>\n",
              "    <tr>\n",
              "      <th>179</th>\n",
              "      <td>spam</td>\n",
              "      <td>This is the 2nd time we have tried 2 contact u...</td>\n",
              "    </tr>\n",
              "    <tr>\n",
              "      <th>2332</th>\n",
              "      <td>ham</td>\n",
              "      <td>3 pa but not selected.</td>\n",
              "    </tr>\n",
              "    <tr>\n",
              "      <th>3549</th>\n",
              "      <td>ham</td>\n",
              "      <td>Okie</td>\n",
              "    </tr>\n",
              "    <tr>\n",
              "      <th>3240</th>\n",
              "      <td>ham</td>\n",
              "      <td>Anything is valuable in only 2 situations: Fir...</td>\n",
              "    </tr>\n",
              "  </tbody>\n",
              "</table>\n",
              "</div>"
            ],
            "text/plain": [
              "     label                                               text\n",
              "4114   ham  Double eviction this week - Spiral and Michael...\n",
              "179   spam  This is the 2nd time we have tried 2 contact u...\n",
              "2332   ham                             3 pa but not selected.\n",
              "3549   ham                                               Okie\n",
              "3240   ham  Anything is valuable in only 2 situations: Fir..."
            ]
          },
          "metadata": {
            "tags": []
          }
        },
        {
          "output_type": "stream",
          "text": [
            "Test\n"
          ],
          "name": "stdout"
        },
        {
          "output_type": "execute_result",
          "data": {
            "text/html": [
              "<div>\n",
              "<style scoped>\n",
              "    .dataframe tbody tr th:only-of-type {\n",
              "        vertical-align: middle;\n",
              "    }\n",
              "\n",
              "    .dataframe tbody tr th {\n",
              "        vertical-align: top;\n",
              "    }\n",
              "\n",
              "    .dataframe thead th {\n",
              "        text-align: right;\n",
              "    }\n",
              "</style>\n",
              "<table border=\"1\" class=\"dataframe\">\n",
              "  <thead>\n",
              "    <tr style=\"text-align: right;\">\n",
              "      <th></th>\n",
              "      <th>label</th>\n",
              "      <th>text</th>\n",
              "    </tr>\n",
              "  </thead>\n",
              "  <tbody>\n",
              "    <tr>\n",
              "      <th>4565</th>\n",
              "      <td>ham</td>\n",
              "      <td>Alrite jod hows the revision goin? Keris bin d...</td>\n",
              "    </tr>\n",
              "    <tr>\n",
              "      <th>2831</th>\n",
              "      <td>ham</td>\n",
              "      <td>When can Ì_ come out?</td>\n",
              "    </tr>\n",
              "    <tr>\n",
              "      <th>2489</th>\n",
              "      <td>ham</td>\n",
              "      <td>I'm fine. Hope you are good. Do take care.</td>\n",
              "    </tr>\n",
              "    <tr>\n",
              "      <th>3865</th>\n",
              "      <td>ham</td>\n",
              "      <td>Mine here like all fr china then so noisy.</td>\n",
              "    </tr>\n",
              "    <tr>\n",
              "      <th>3852</th>\n",
              "      <td>ham</td>\n",
              "      <td>Shant disturb u anymore... Jia you...</td>\n",
              "    </tr>\n",
              "  </tbody>\n",
              "</table>\n",
              "</div>"
            ],
            "text/plain": [
              "     label                                               text\n",
              "4565   ham  Alrite jod hows the revision goin? Keris bin d...\n",
              "2831   ham                              When can Ì_ come out?\n",
              "2489   ham         I'm fine. Hope you are good. Do take care.\n",
              "3865   ham         Mine here like all fr china then so noisy.\n",
              "3852   ham              Shant disturb u anymore... Jia you..."
            ]
          },
          "metadata": {
            "tags": []
          },
          "execution_count": 8
        }
      ]
    },
    {
      "cell_type": "code",
      "metadata": {
        "colab": {
          "base_uri": "https://localhost:8080/"
        },
        "id": "muw1Zo3HVAiC",
        "outputId": "849d1b0b-d5c7-474b-f77c-fe3582f6086a"
      },
      "source": [
        "# check train and test data dimension\n",
        "print (df_train.info())\n",
        "print (df_test.info())"
      ],
      "execution_count": null,
      "outputs": [
        {
          "output_type": "stream",
          "text": [
            "<class 'pandas.core.frame.DataFrame'>\n",
            "Int64Index: 4457 entries, 4114 to 3387\n",
            "Data columns (total 2 columns):\n",
            " #   Column  Non-Null Count  Dtype \n",
            "---  ------  --------------  ----- \n",
            " 0   label   4457 non-null   object\n",
            " 1   text    4457 non-null   object\n",
            "dtypes: object(2)\n",
            "memory usage: 104.5+ KB\n",
            "None\n",
            "<class 'pandas.core.frame.DataFrame'>\n",
            "Int64Index: 1115 entries, 4565 to 1929\n",
            "Data columns (total 2 columns):\n",
            " #   Column  Non-Null Count  Dtype \n",
            "---  ------  --------------  ----- \n",
            " 0   label   1115 non-null   object\n",
            " 1   text    1115 non-null   object\n",
            "dtypes: object(2)\n",
            "memory usage: 26.1+ KB\n",
            "None\n"
          ],
          "name": "stdout"
        }
      ]
    },
    {
      "cell_type": "code",
      "metadata": {
        "colab": {
          "base_uri": "https://localhost:8080/"
        },
        "id": "uyqFGUGFVP-K",
        "outputId": "ee87ba33-989c-4c63-81f8-da5ea339c22c"
      },
      "source": [
        "df_train['label'].value_counts()"
      ],
      "execution_count": null,
      "outputs": [
        {
          "output_type": "execute_result",
          "data": {
            "text/plain": [
              "ham     3859\n",
              "spam     598\n",
              "Name: label, dtype: int64"
            ]
          },
          "metadata": {
            "tags": []
          },
          "execution_count": 10
        }
      ]
    },
    {
      "cell_type": "code",
      "metadata": {
        "colab": {
          "base_uri": "https://localhost:8080/"
        },
        "id": "0TNkZPFuWUkz",
        "outputId": "0b757bf6-481f-407b-919c-77b40c2f693b"
      },
      "source": [
        "df_test['label'].value_counts()"
      ],
      "execution_count": null,
      "outputs": [
        {
          "output_type": "execute_result",
          "data": {
            "text/plain": [
              "ham     966\n",
              "spam    149\n",
              "Name: label, dtype: int64"
            ]
          },
          "metadata": {
            "tags": []
          },
          "execution_count": 11
        }
      ]
    },
    {
      "cell_type": "code",
      "metadata": {
        "id": "d30J7chUQLPZ"
      },
      "source": [
        "# define constants to represent the class labels for spam, ham and abstain\n",
        "ABSTAIN = -1\n",
        "HAM = 0\n",
        "SPAM = 1"
      ],
      "execution_count": null,
      "outputs": []
    },
    {
      "cell_type": "code",
      "metadata": {
        "id": "E5GMNbf7NRBA"
      },
      "source": [
        "# map constant values to the labels 'ham' and 'spam' in the dataset\n",
        "dict_map = {'ham':HAM,'spam':SPAM}\n",
        "Y_train = df_train['label'].map(dict_map).values\n",
        "Y_test = df_test['label'].map(dict_map).values"
      ],
      "execution_count": null,
      "outputs": []
    },
    {
      "cell_type": "markdown",
      "metadata": {
        "id": "k9YZtqZj_3sG"
      },
      "source": [
        "## Write Labeling Functions\n",
        "\n",
        "**Pattern-matching LFs**\n",
        "\n",
        "In this step, we write labelling functions using regex pattern matching in order to look for specific syntactical pattern. This is where we will use our \"domain knowledge\" (or in this case mostly common knowledge as most of us recognize patterns of spam and non-spam messages) to write python programs (LFs) that take as input a data point and assign labels using pattern matching.\n",
        "\n",
        "Below are some of the LFs defined using regex pattern matching:\n",
        "\n",
        "1. `smiley_face` - Ham messages are personal which have emoticons included. This LS looks for emoticons\n",
        "2. `regex_pobox` - Spam messages have addresses with 'PO BOX' details\n",
        "3. `regex_tc` -   Promotional spam messages have acronym for 'terms and conditions' like T&C, TnC, TC, T C.\n",
        "4. `spam_numbers` - Spam messages have 5-digit number for texting promotional codes or a 10-digit phone number to call.\n",
        "\n",
        "5. `regex_punc` - Messages shared by many people including family and friends use multiple full stop at the end of sentences. We classify those messages as non-spam."
      ]
    },
    {
      "cell_type": "code",
      "metadata": {
        "id": "x2wd5exSa64p"
      },
      "source": [
        "from snorkel.labeling import labeling_function\n",
        "\n",
        "# Ham messages tend to have personal emoticons\n",
        "@labeling_function()\n",
        "def smiley_face(x):\n",
        "    return HAM if re.search(r'(?::|;|=)(?:-)?(?:\\)|\\(|D|P)',x.text) else ABSTAIN\n",
        "\n",
        "# SPAM messages can have post office as text\n",
        "@labeling_function()\n",
        "def regex_pobox(x):\n",
        "    return SPAM if re.search(r\"po.*box\", x.text, flags=re.I) else ABSTAIN\n",
        "\n",
        "# SPAM messages have various acronyms for terms and conditions\n",
        "@labeling_function()\n",
        "def regex_tc(x):\n",
        "    return SPAM if re.search(r\"T.{0,2}C\", x.text) else ABSTAIN\n",
        "\n",
        "# SPAM messages can have 5-digit text numbers or 10-digit phone numbers\n",
        "@labeling_function()\n",
        "def spam_numbers(x):\n",
        "    return SPAM if re.search(r'\\b\\d{5}\\b|\\b\\d{10}\\b',x.text) else ABSTAIN\n",
        "\n",
        "# HAM messages can have multiple full stops\n",
        "@labeling_function()\n",
        "def regex_punc(x):\n",
        "    return HAM if re.search(r'\\.{3,}',x.text) else ABSTAIN"
      ],
      "execution_count": null,
      "outputs": []
    },
    {
      "cell_type": "markdown",
      "metadata": {
        "id": "WncJWXbnIVu9"
      },
      "source": [
        "**Keyowrd LFs**\n",
        "\n",
        "Next, we define additional labelling functions using keyword searches to look for specific keywords in a sentence.  Similar to the labeling_function decorator, the LabelingFunction class wraps a Python function (the f parameter), and we can use the resources parameter to pass in keyword arguments to the function."
      ]
    },
    {
      "cell_type": "code",
      "metadata": {
        "id": "adkqunikbhGd"
      },
      "source": [
        "from snorkel.labeling import LabelingFunction\n",
        "\n",
        "\n",
        "def keyword_lookup(x, keywords, label):\n",
        "    if any(word in x.text.lower() for word in keywords):\n",
        "        return label\n",
        "    return ABSTAIN\n",
        "\n",
        "def make_keyword_lf(keywords, label=SPAM):\n",
        "    return LabelingFunction(\n",
        "        name=f\"keyword_{keywords[0]}\",\n",
        "        f=keyword_lookup,\n",
        "        resources=dict(keywords=keywords, label=label),\n",
        "    )\n",
        "\n",
        "\"\"\"Spam messages ask users to subscribe to their webpage or channel\"\"\"\n",
        "keyword_subscribe = make_keyword_lf(keywords=[\"subscribe\"])\n",
        "\n",
        "\"\"\"Spam comments post links to webpage or channels\"\"\"\n",
        "keyword_link = make_keyword_lf(keywords=[\"http\",\"www\"])\n",
        "\n",
        "\"\"\"Spam comments make impersonal requests\"\"\"\n",
        "keyword_please = make_keyword_lf(keywords=[\"urgent\", \"private\",\"STOP\", \"satisfaction\", \"guaranteed\", \"FREE\"])\n",
        "\n",
        "\"\"\"Spam comments with calletunes and voicemail\"\"\"\n",
        "keyword_song = make_keyword_lf(keywords=[\"callertunes\",\"voicemail\"])\n",
        "\n",
        "\"\"\"Spam comments actually talk about win and award\"\"\"\n",
        "keyword_win = make_keyword_lf(keywords=[\"reward\", \"points\", \"voucher\", \"bonus\", \"code\", \"gift\", \"claim\", \"prize\", \"expires\", \"award\"])\n",
        "\n",
        "\"\"\"HAM comments have personal references of family and friends\"\"\"\n",
        "keyword_personal =make_keyword_lf(keywords=['bro','mum','papa', 'dad','daddy','mom','mommy', 'father', 'mother'],label=HAM)\n",
        "\n",
        "\"\"\"HAM comments getting delivered via a third party website source\"\"\"\n",
        "keyword_fullonsms =make_keyword_lf(keywords=['fullonsms.com'],label=HAM)"
      ],
      "execution_count": null,
      "outputs": []
    },
    {
      "cell_type": "markdown",
      "metadata": {
        "id": "P1_ytksG3LMg"
      },
      "source": [
        "**Heuristic LFs**\n",
        "\n",
        "Rule based labeling functions using heuristics after going through the data."
      ]
    },
    {
      "cell_type": "code",
      "metadata": {
        "id": "OuT5xGgpNnJA"
      },
      "source": [
        "@labeling_function()\n",
        "def short_comment(x):\n",
        "    \"\"\"Ham comments are often short, such as 'cool video!'\"\"\"\n",
        "    return HAM if len(x.text.split()) < 5 else ABSTAIN"
      ],
      "execution_count": null,
      "outputs": []
    },
    {
      "cell_type": "markdown",
      "metadata": {
        "id": "jaXv6ijt6-6N"
      },
      "source": [
        "**LFs that use third-party models**\n",
        "\n",
        "Next, we creat a Preprocessor that runs `TextBlob` (a python NLP library) on our text messages, then extracts the polarity and subjectivity scores. Here, we will focus on writing LFs for HAM, since we identified SPAM comments in above LFs."
      ]
    },
    {
      "cell_type": "code",
      "metadata": {
        "id": "2_my2qzyGApY"
      },
      "source": [
        "from snorkel.preprocess import preprocessor\n",
        "from textblob import TextBlob\n",
        "@preprocessor(memoize=True)\n",
        "def textblob_sentiment(x):\n",
        "    scores = TextBlob(x.text)\n",
        "    x.polarity = scores.sentiment.polarity\n",
        "    x.subjectivity = scores.sentiment.subjectivity\n",
        "    return x \n",
        "\n",
        "@labeling_function(pre=[textblob_sentiment])\n",
        "def textblob_polarity(x):\n",
        "    return HAM if x.polarity > 0.9 else ABSTAIN\n",
        "\n",
        "@labeling_function(pre=[textblob_sentiment])\n",
        "def textblob_subjectivity(x):\n",
        "    return HAM if x.subjectivity >= 0.5 else ABSTAIN"
      ],
      "execution_count": null,
      "outputs": []
    },
    {
      "cell_type": "markdown",
      "metadata": {
        "id": "r7mwFVA1EPoY"
      },
      "source": [
        "**LFs with Complex Preprocessor**\n",
        "\n",
        "Here we use the NLP library `spaCy` that can be used to add lemmas, part-of-speech (pos) tags, etc. to each token. Snokel has a prebuilt spaCy preprocessor called `SpacyPreprocessor` which adds a new field to the data point containing a spaCy Doc object."
      ]
    },
    {
      "cell_type": "code",
      "metadata": {
        "id": "1qz1pxzBEZ57"
      },
      "source": [
        "from snorkel.preprocess.nlp import SpacyPreprocessor\n",
        "\n",
        "spacy = SpacyPreprocessor(text_field=\"text\", doc_field=\"doc\", memoize=True)\n",
        "\n",
        "\n",
        "@labeling_function(pre=[spacy])\n",
        "def has_person(x):\n",
        "    \"\"\"Ham comments mention specific people and are short.\"\"\"\n",
        "    if len(x.doc) < 20 and any([ent.label_ in [\"PERSON\",\"GPE\"] for ent in x.doc.ents]):\n",
        "        return HAM\n",
        "    else:\n",
        "        return ABSTAIN"
      ],
      "execution_count": null,
      "outputs": []
    },
    {
      "cell_type": "code",
      "metadata": {
        "id": "kt_5YYrCUiho"
      },
      "source": [
        "from snorkel.labeling.lf.nlp import nlp_labeling_function\n",
        "@nlp_labeling_function()\n",
        "def has_person_nlp(x):\n",
        "    \"\"\"Ham comments mention specific people and are short.\"\"\"\n",
        "    if len(x.doc) < 20 and any([ent.label_ in [\"PERSON\",\"GPE\"] for ent in x.doc.ents]):\n",
        "        return HAM\n",
        "    else:\n",
        "        return ABSTAIN"
      ],
      "execution_count": null,
      "outputs": []
    },
    {
      "cell_type": "markdown",
      "metadata": {
        "id": "4nt0NhzxSFo0"
      },
      "source": [
        "**Combining Labeling Functions**\n"
      ]
    },
    {
      "cell_type": "code",
      "metadata": {
        "id": "4MBk8iY7sKy1"
      },
      "source": [
        "lfs = [\n",
        "    keyword_subscribe,\n",
        "    keyword_link,\n",
        "    keyword_win,\n",
        "    regex_pobox,\n",
        "    regex_tc,\n",
        "    short_comment,\n",
        "    keyword_please,\n",
        "    keyword_personal,\n",
        "    spam_numbers,\n",
        "    keyword_fullonsms,\n",
        "    regex_punc,\n",
        "    smiley_face,\n",
        "    has_person,\n",
        "    textblob_polarity,\n",
        "    textblob_subjectivity\n",
        "\n",
        "]"
      ],
      "execution_count": null,
      "outputs": []
    },
    {
      "cell_type": "markdown",
      "metadata": {
        "id": "bFGF3i9SFcbv"
      },
      "source": [
        "## Building a generalized model using LFs\n",
        "\n",
        "Now, we can apply these LFs to the train and test pandas dataframes to get label matrices."
      ]
    },
    {
      "cell_type": "code",
      "metadata": {
        "colab": {
          "base_uri": "https://localhost:8080/"
        },
        "id": "ajo-EqKDvtph",
        "outputId": "f82dd4bd-de15-45b6-d16f-c55eebfda3a0"
      },
      "source": [
        "from snorkel.labeling import PandasLFApplier\n",
        "applier = PandasLFApplier(lfs=lfs)\n",
        "L_train = applier.apply(df=df_train)\n",
        "L_test = applier.apply(df=df_test)"
      ],
      "execution_count": null,
      "outputs": [
        {
          "output_type": "stream",
          "text": [
            "/usr/local/lib/python3.7/dist-packages/tqdm/std.py:658: FutureWarning: The Panel class is removed from pandas. Accessing it from the top-level namespace will also be removed in the next version\n",
            "  from pandas import Panel\n",
            "100%|██████████| 4457/4457 [01:00<00:00, 73.22it/s]\n",
            "100%|██████████| 1115/1115 [00:13<00:00, 79.82it/s]\n"
          ],
          "name": "stderr"
        }
      ]
    },
    {
      "cell_type": "markdown",
      "metadata": {
        "id": "eiE4ySDHHW_Z"
      },
      "source": [
        "Utility function `lf_summary` that provides the following metrics:\n",
        "\n",
        "1. Polarity: The set of unique labels this LF outputs (excluding abstains)\n",
        "2. Coverage: The fraction of the dataset the LF labels\n",
        "3. Overlaps: The fraction of the dataset where this LF and at least one other LF label\n",
        "4. Conflicts: The fraction of the dataset where this LF and at least one other LF label and disagree\n",
        "5. Correct: The number of data points this LF labels correctly (if gold labels are provided)\n",
        "6. Incorrect: The number of data points this LF labels incorrectly (if gold labels are provided)\n",
        "7. Empirical Accuracy: The empirical accuracy of this LF (if gold labels are provided)"
      ]
    },
    {
      "cell_type": "code",
      "metadata": {
        "colab": {
          "base_uri": "https://localhost:8080/",
          "height": 510
        },
        "id": "grjRvEVuytPH",
        "outputId": "6dec5e3d-cefa-4591-efe2-5dc23df0a288"
      },
      "source": [
        "from snorkel.labeling import LFAnalysis\n",
        "LFAnalysis(L=L_train, lfs=lfs).lf_summary(Y_train)"
      ],
      "execution_count": null,
      "outputs": [
        {
          "output_type": "execute_result",
          "data": {
            "text/html": [
              "<div>\n",
              "<style scoped>\n",
              "    .dataframe tbody tr th:only-of-type {\n",
              "        vertical-align: middle;\n",
              "    }\n",
              "\n",
              "    .dataframe tbody tr th {\n",
              "        vertical-align: top;\n",
              "    }\n",
              "\n",
              "    .dataframe thead th {\n",
              "        text-align: right;\n",
              "    }\n",
              "</style>\n",
              "<table border=\"1\" class=\"dataframe\">\n",
              "  <thead>\n",
              "    <tr style=\"text-align: right;\">\n",
              "      <th></th>\n",
              "      <th>j</th>\n",
              "      <th>Polarity</th>\n",
              "      <th>Coverage</th>\n",
              "      <th>Overlaps</th>\n",
              "      <th>Conflicts</th>\n",
              "      <th>Correct</th>\n",
              "      <th>Incorrect</th>\n",
              "      <th>Emp. Acc.</th>\n",
              "    </tr>\n",
              "  </thead>\n",
              "  <tbody>\n",
              "    <tr>\n",
              "      <th>keyword_subscribe</th>\n",
              "      <td>0</td>\n",
              "      <td>[1]</td>\n",
              "      <td>0.005609</td>\n",
              "      <td>0.005160</td>\n",
              "      <td>0.001795</td>\n",
              "      <td>25</td>\n",
              "      <td>0</td>\n",
              "      <td>1.000000</td>\n",
              "    </tr>\n",
              "    <tr>\n",
              "      <th>keyword_http</th>\n",
              "      <td>1</td>\n",
              "      <td>[1]</td>\n",
              "      <td>0.019520</td>\n",
              "      <td>0.017725</td>\n",
              "      <td>0.009872</td>\n",
              "      <td>84</td>\n",
              "      <td>3</td>\n",
              "      <td>0.965517</td>\n",
              "    </tr>\n",
              "    <tr>\n",
              "      <th>keyword_reward</th>\n",
              "      <td>2</td>\n",
              "      <td>[1]</td>\n",
              "      <td>0.043303</td>\n",
              "      <td>0.037469</td>\n",
              "      <td>0.019969</td>\n",
              "      <td>179</td>\n",
              "      <td>14</td>\n",
              "      <td>0.927461</td>\n",
              "    </tr>\n",
              "    <tr>\n",
              "      <th>regex_pobox</th>\n",
              "      <td>3</td>\n",
              "      <td>[1]</td>\n",
              "      <td>0.016154</td>\n",
              "      <td>0.011891</td>\n",
              "      <td>0.007180</td>\n",
              "      <td>71</td>\n",
              "      <td>1</td>\n",
              "      <td>0.986111</td>\n",
              "    </tr>\n",
              "    <tr>\n",
              "      <th>regex_tc</th>\n",
              "      <td>4</td>\n",
              "      <td>[1]</td>\n",
              "      <td>0.024680</td>\n",
              "      <td>0.022212</td>\n",
              "      <td>0.011891</td>\n",
              "      <td>95</td>\n",
              "      <td>15</td>\n",
              "      <td>0.863636</td>\n",
              "    </tr>\n",
              "    <tr>\n",
              "      <th>short_comment</th>\n",
              "      <td>5</td>\n",
              "      <td>[0]</td>\n",
              "      <td>0.061476</td>\n",
              "      <td>0.034328</td>\n",
              "      <td>0.000224</td>\n",
              "      <td>271</td>\n",
              "      <td>3</td>\n",
              "      <td>0.989051</td>\n",
              "    </tr>\n",
              "    <tr>\n",
              "      <th>keyword_urgent</th>\n",
              "      <td>6</td>\n",
              "      <td>[1]</td>\n",
              "      <td>0.021539</td>\n",
              "      <td>0.019295</td>\n",
              "      <td>0.009423</td>\n",
              "      <td>90</td>\n",
              "      <td>6</td>\n",
              "      <td>0.937500</td>\n",
              "    </tr>\n",
              "    <tr>\n",
              "      <th>keyword_bro</th>\n",
              "      <td>7</td>\n",
              "      <td>[0]</td>\n",
              "      <td>0.030514</td>\n",
              "      <td>0.016379</td>\n",
              "      <td>0.000897</td>\n",
              "      <td>133</td>\n",
              "      <td>3</td>\n",
              "      <td>0.977941</td>\n",
              "    </tr>\n",
              "    <tr>\n",
              "      <th>spam_numbers</th>\n",
              "      <td>8</td>\n",
              "      <td>[1]</td>\n",
              "      <td>0.045546</td>\n",
              "      <td>0.037469</td>\n",
              "      <td>0.023783</td>\n",
              "      <td>202</td>\n",
              "      <td>1</td>\n",
              "      <td>0.995074</td>\n",
              "    </tr>\n",
              "    <tr>\n",
              "      <th>keyword_fullonsms.com</th>\n",
              "      <td>9</td>\n",
              "      <td>[0]</td>\n",
              "      <td>0.001346</td>\n",
              "      <td>0.000897</td>\n",
              "      <td>0.000449</td>\n",
              "      <td>6</td>\n",
              "      <td>0</td>\n",
              "      <td>1.000000</td>\n",
              "    </tr>\n",
              "    <tr>\n",
              "      <th>regex_punc</th>\n",
              "      <td>10</td>\n",
              "      <td>[0]</td>\n",
              "      <td>0.139556</td>\n",
              "      <td>0.083015</td>\n",
              "      <td>0.000897</td>\n",
              "      <td>614</td>\n",
              "      <td>8</td>\n",
              "      <td>0.987138</td>\n",
              "    </tr>\n",
              "    <tr>\n",
              "      <th>smiley_face</th>\n",
              "      <td>11</td>\n",
              "      <td>[0]</td>\n",
              "      <td>0.067534</td>\n",
              "      <td>0.060803</td>\n",
              "      <td>0.000449</td>\n",
              "      <td>301</td>\n",
              "      <td>0</td>\n",
              "      <td>1.000000</td>\n",
              "    </tr>\n",
              "    <tr>\n",
              "      <th>has_person</th>\n",
              "      <td>12</td>\n",
              "      <td>[0]</td>\n",
              "      <td>0.058335</td>\n",
              "      <td>0.031187</td>\n",
              "      <td>0.000897</td>\n",
              "      <td>254</td>\n",
              "      <td>6</td>\n",
              "      <td>0.976923</td>\n",
              "    </tr>\n",
              "    <tr>\n",
              "      <th>textblob_polarity</th>\n",
              "      <td>13</td>\n",
              "      <td>[0]</td>\n",
              "      <td>0.010321</td>\n",
              "      <td>0.009199</td>\n",
              "      <td>0.000897</td>\n",
              "      <td>41</td>\n",
              "      <td>5</td>\n",
              "      <td>0.891304</td>\n",
              "    </tr>\n",
              "    <tr>\n",
              "      <th>textblob_subjectivity</th>\n",
              "      <td>14</td>\n",
              "      <td>[0]</td>\n",
              "      <td>0.426744</td>\n",
              "      <td>0.196769</td>\n",
              "      <td>0.048014</td>\n",
              "      <td>1599</td>\n",
              "      <td>303</td>\n",
              "      <td>0.840694</td>\n",
              "    </tr>\n",
              "  </tbody>\n",
              "</table>\n",
              "</div>"
            ],
            "text/plain": [
              "                        j Polarity  Coverage  ...  Correct  Incorrect  Emp. Acc.\n",
              "keyword_subscribe       0      [1]  0.005609  ...       25          0   1.000000\n",
              "keyword_http            1      [1]  0.019520  ...       84          3   0.965517\n",
              "keyword_reward          2      [1]  0.043303  ...      179         14   0.927461\n",
              "regex_pobox             3      [1]  0.016154  ...       71          1   0.986111\n",
              "regex_tc                4      [1]  0.024680  ...       95         15   0.863636\n",
              "short_comment           5      [0]  0.061476  ...      271          3   0.989051\n",
              "keyword_urgent          6      [1]  0.021539  ...       90          6   0.937500\n",
              "keyword_bro             7      [0]  0.030514  ...      133          3   0.977941\n",
              "spam_numbers            8      [1]  0.045546  ...      202          1   0.995074\n",
              "keyword_fullonsms.com   9      [0]  0.001346  ...        6          0   1.000000\n",
              "regex_punc             10      [0]  0.139556  ...      614          8   0.987138\n",
              "smiley_face            11      [0]  0.067534  ...      301          0   1.000000\n",
              "has_person             12      [0]  0.058335  ...      254          6   0.976923\n",
              "textblob_polarity      13      [0]  0.010321  ...       41          5   0.891304\n",
              "textblob_subjectivity  14      [0]  0.426744  ...     1599        303   0.840694\n",
              "\n",
              "[15 rows x 8 columns]"
            ]
          },
          "metadata": {
            "tags": []
          },
          "execution_count": 22
        }
      ]
    },
    {
      "cell_type": "code",
      "metadata": {
        "colab": {
          "base_uri": "https://localhost:8080/",
          "height": 510
        },
        "id": "99yNTSucVYYI",
        "outputId": "0c31aea5-9229-42b1-ac6c-fa49080c5f64"
      },
      "source": [
        "# check summary for the test data\n",
        "LFAnalysis(L=L_test, lfs=lfs).lf_summary(Y_test)"
      ],
      "execution_count": null,
      "outputs": [
        {
          "output_type": "execute_result",
          "data": {
            "text/html": [
              "<div>\n",
              "<style scoped>\n",
              "    .dataframe tbody tr th:only-of-type {\n",
              "        vertical-align: middle;\n",
              "    }\n",
              "\n",
              "    .dataframe tbody tr th {\n",
              "        vertical-align: top;\n",
              "    }\n",
              "\n",
              "    .dataframe thead th {\n",
              "        text-align: right;\n",
              "    }\n",
              "</style>\n",
              "<table border=\"1\" class=\"dataframe\">\n",
              "  <thead>\n",
              "    <tr style=\"text-align: right;\">\n",
              "      <th></th>\n",
              "      <th>j</th>\n",
              "      <th>Polarity</th>\n",
              "      <th>Coverage</th>\n",
              "      <th>Overlaps</th>\n",
              "      <th>Conflicts</th>\n",
              "      <th>Correct</th>\n",
              "      <th>Incorrect</th>\n",
              "      <th>Emp. Acc.</th>\n",
              "    </tr>\n",
              "  </thead>\n",
              "  <tbody>\n",
              "    <tr>\n",
              "      <th>keyword_subscribe</th>\n",
              "      <td>0</td>\n",
              "      <td>[1]</td>\n",
              "      <td>0.002691</td>\n",
              "      <td>0.002691</td>\n",
              "      <td>0.001794</td>\n",
              "      <td>3</td>\n",
              "      <td>0</td>\n",
              "      <td>1.000000</td>\n",
              "    </tr>\n",
              "    <tr>\n",
              "      <th>keyword_http</th>\n",
              "      <td>1</td>\n",
              "      <td>[1]</td>\n",
              "      <td>0.020628</td>\n",
              "      <td>0.020628</td>\n",
              "      <td>0.016143</td>\n",
              "      <td>23</td>\n",
              "      <td>0</td>\n",
              "      <td>1.000000</td>\n",
              "    </tr>\n",
              "    <tr>\n",
              "      <th>keyword_reward</th>\n",
              "      <td>2</td>\n",
              "      <td>[1]</td>\n",
              "      <td>0.039462</td>\n",
              "      <td>0.030493</td>\n",
              "      <td>0.018834</td>\n",
              "      <td>40</td>\n",
              "      <td>4</td>\n",
              "      <td>0.909091</td>\n",
              "    </tr>\n",
              "    <tr>\n",
              "      <th>regex_pobox</th>\n",
              "      <td>3</td>\n",
              "      <td>[1]</td>\n",
              "      <td>0.014350</td>\n",
              "      <td>0.009865</td>\n",
              "      <td>0.005381</td>\n",
              "      <td>16</td>\n",
              "      <td>0</td>\n",
              "      <td>1.000000</td>\n",
              "    </tr>\n",
              "    <tr>\n",
              "      <th>regex_tc</th>\n",
              "      <td>4</td>\n",
              "      <td>[1]</td>\n",
              "      <td>0.026906</td>\n",
              "      <td>0.022422</td>\n",
              "      <td>0.014350</td>\n",
              "      <td>25</td>\n",
              "      <td>5</td>\n",
              "      <td>0.833333</td>\n",
              "    </tr>\n",
              "    <tr>\n",
              "      <th>short_comment</th>\n",
              "      <td>5</td>\n",
              "      <td>[0]</td>\n",
              "      <td>0.071749</td>\n",
              "      <td>0.038565</td>\n",
              "      <td>0.000897</td>\n",
              "      <td>79</td>\n",
              "      <td>1</td>\n",
              "      <td>0.987500</td>\n",
              "    </tr>\n",
              "    <tr>\n",
              "      <th>keyword_urgent</th>\n",
              "      <td>6</td>\n",
              "      <td>[1]</td>\n",
              "      <td>0.020628</td>\n",
              "      <td>0.016143</td>\n",
              "      <td>0.009865</td>\n",
              "      <td>21</td>\n",
              "      <td>2</td>\n",
              "      <td>0.913043</td>\n",
              "    </tr>\n",
              "    <tr>\n",
              "      <th>keyword_bro</th>\n",
              "      <td>7</td>\n",
              "      <td>[0]</td>\n",
              "      <td>0.030493</td>\n",
              "      <td>0.016143</td>\n",
              "      <td>0.001794</td>\n",
              "      <td>31</td>\n",
              "      <td>3</td>\n",
              "      <td>0.911765</td>\n",
              "    </tr>\n",
              "    <tr>\n",
              "      <th>spam_numbers</th>\n",
              "      <td>8</td>\n",
              "      <td>[1]</td>\n",
              "      <td>0.043049</td>\n",
              "      <td>0.037668</td>\n",
              "      <td>0.026906</td>\n",
              "      <td>48</td>\n",
              "      <td>0</td>\n",
              "      <td>1.000000</td>\n",
              "    </tr>\n",
              "    <tr>\n",
              "      <th>keyword_fullonsms.com</th>\n",
              "      <td>9</td>\n",
              "      <td>[]</td>\n",
              "      <td>0.000000</td>\n",
              "      <td>0.000000</td>\n",
              "      <td>0.000000</td>\n",
              "      <td>0</td>\n",
              "      <td>0</td>\n",
              "      <td>0.000000</td>\n",
              "    </tr>\n",
              "    <tr>\n",
              "      <th>regex_punc</th>\n",
              "      <td>10</td>\n",
              "      <td>[0]</td>\n",
              "      <td>0.134529</td>\n",
              "      <td>0.082511</td>\n",
              "      <td>0.000000</td>\n",
              "      <td>150</td>\n",
              "      <td>0</td>\n",
              "      <td>1.000000</td>\n",
              "    </tr>\n",
              "    <tr>\n",
              "      <th>smiley_face</th>\n",
              "      <td>11</td>\n",
              "      <td>[0]</td>\n",
              "      <td>0.069058</td>\n",
              "      <td>0.058296</td>\n",
              "      <td>0.000000</td>\n",
              "      <td>77</td>\n",
              "      <td>0</td>\n",
              "      <td>1.000000</td>\n",
              "    </tr>\n",
              "    <tr>\n",
              "      <th>has_person</th>\n",
              "      <td>12</td>\n",
              "      <td>[0]</td>\n",
              "      <td>0.071749</td>\n",
              "      <td>0.038565</td>\n",
              "      <td>0.001794</td>\n",
              "      <td>80</td>\n",
              "      <td>0</td>\n",
              "      <td>1.000000</td>\n",
              "    </tr>\n",
              "    <tr>\n",
              "      <th>textblob_polarity</th>\n",
              "      <td>13</td>\n",
              "      <td>[0]</td>\n",
              "      <td>0.006278</td>\n",
              "      <td>0.006278</td>\n",
              "      <td>0.002691</td>\n",
              "      <td>5</td>\n",
              "      <td>2</td>\n",
              "      <td>0.714286</td>\n",
              "    </tr>\n",
              "    <tr>\n",
              "      <th>textblob_subjectivity</th>\n",
              "      <td>14</td>\n",
              "      <td>[0]</td>\n",
              "      <td>0.409865</td>\n",
              "      <td>0.202691</td>\n",
              "      <td>0.051121</td>\n",
              "      <td>386</td>\n",
              "      <td>71</td>\n",
              "      <td>0.844639</td>\n",
              "    </tr>\n",
              "  </tbody>\n",
              "</table>\n",
              "</div>"
            ],
            "text/plain": [
              "                        j Polarity  Coverage  ...  Correct  Incorrect  Emp. Acc.\n",
              "keyword_subscribe       0      [1]  0.002691  ...        3          0   1.000000\n",
              "keyword_http            1      [1]  0.020628  ...       23          0   1.000000\n",
              "keyword_reward          2      [1]  0.039462  ...       40          4   0.909091\n",
              "regex_pobox             3      [1]  0.014350  ...       16          0   1.000000\n",
              "regex_tc                4      [1]  0.026906  ...       25          5   0.833333\n",
              "short_comment           5      [0]  0.071749  ...       79          1   0.987500\n",
              "keyword_urgent          6      [1]  0.020628  ...       21          2   0.913043\n",
              "keyword_bro             7      [0]  0.030493  ...       31          3   0.911765\n",
              "spam_numbers            8      [1]  0.043049  ...       48          0   1.000000\n",
              "keyword_fullonsms.com   9       []  0.000000  ...        0          0   0.000000\n",
              "regex_punc             10      [0]  0.134529  ...      150          0   1.000000\n",
              "smiley_face            11      [0]  0.069058  ...       77          0   1.000000\n",
              "has_person             12      [0]  0.071749  ...       80          0   1.000000\n",
              "textblob_polarity      13      [0]  0.006278  ...        5          2   0.714286\n",
              "textblob_subjectivity  14      [0]  0.409865  ...      386         71   0.844639\n",
              "\n",
              "[15 rows x 8 columns]"
            ]
          },
          "metadata": {
            "tags": []
          },
          "execution_count": 23
        }
      ]
    },
    {
      "cell_type": "code",
      "metadata": {
        "colab": {
          "base_uri": "https://localhost:8080/",
          "height": 697
        },
        "id": "8S7suRe2_ecK",
        "outputId": "adfa55b7-d177-41d7-f7c6-b4a4a800727f"
      },
      "source": [
        "# check some of those messages which the LF regex_tc labelled them as SPAM\n",
        "pd.set_option('display.max_colwidth', None)\n",
        "df_train.loc[L_train[:, 4] == SPAM].sample(20, random_state=3)"
      ],
      "execution_count": null,
      "outputs": [
        {
          "output_type": "execute_result",
          "data": {
            "text/html": [
              "<div>\n",
              "<style scoped>\n",
              "    .dataframe tbody tr th:only-of-type {\n",
              "        vertical-align: middle;\n",
              "    }\n",
              "\n",
              "    .dataframe tbody tr th {\n",
              "        vertical-align: top;\n",
              "    }\n",
              "\n",
              "    .dataframe thead th {\n",
              "        text-align: right;\n",
              "    }\n",
              "</style>\n",
              "<table border=\"1\" class=\"dataframe\">\n",
              "  <thead>\n",
              "    <tr style=\"text-align: right;\">\n",
              "      <th></th>\n",
              "      <th>label</th>\n",
              "      <th>text</th>\n",
              "    </tr>\n",
              "  </thead>\n",
              "  <tbody>\n",
              "    <tr>\n",
              "      <th>859</th>\n",
              "      <td>spam</td>\n",
              "      <td>Today's Offer! Claim ur å£150 worth of discount vouchers! Text YES to 85023 now! SavaMob, member offers mobile! T Cs 08717898035. å£3.00 Sub. 16 . Unsub reply X</td>\n",
              "    </tr>\n",
              "    <tr>\n",
              "      <th>3831</th>\n",
              "      <td>spam</td>\n",
              "      <td>+449071512431 URGENT! This is the 2nd attempt to contact U!U have WON å£1250 CALL 09071512433 b4 050703 T&amp;CsBCM4235WC1N3XX. callcost 150ppm mobilesvary. maxå£7. 50</td>\n",
              "    </tr>\n",
              "    <tr>\n",
              "      <th>1879</th>\n",
              "      <td>spam</td>\n",
              "      <td>If you don't, your prize will go to another customer. T&amp;C at www.t-c.biz 18+ 150p/min Polo Ltd Suite 373 London W1J 6HL Please call back if busy</td>\n",
              "    </tr>\n",
              "    <tr>\n",
              "      <th>410</th>\n",
              "      <td>spam</td>\n",
              "      <td>CDs 4u: Congratulations ur awarded å£500 of CD gift vouchers or å£125 gift guaranteed &amp; Freeentry 2 å£100 wkly draw xt MUSIC to 87066 TnCs www.ldew.com1win150ppmx3age16</td>\n",
              "    </tr>\n",
              "    <tr>\n",
              "      <th>4620</th>\n",
              "      <td>spam</td>\n",
              "      <td>The current leading bid is 151. To pause this auction send OUT. Customer Care: 08718726270</td>\n",
              "    </tr>\n",
              "    <tr>\n",
              "      <th>2197</th>\n",
              "      <td>spam</td>\n",
              "      <td>Summers finally here! Fancy a chat or flirt with sexy singles in yr area? To get MATCHED up just reply SUMMER now. Free 2 Join. OptOut txt STOP Help08714742804</td>\n",
              "    </tr>\n",
              "    <tr>\n",
              "      <th>1454</th>\n",
              "      <td>ham</td>\n",
              "      <td>HI ITS KATE CAN U GIVE ME A RING ASAP XXX</td>\n",
              "    </tr>\n",
              "    <tr>\n",
              "      <th>5027</th>\n",
              "      <td>spam</td>\n",
              "      <td>URGENT, IMPORTANT INFORMATION FOR O2 USER. TODAY IS YOUR LUCKY DAY! 2 FIND OUT WHY LOG ONTO HTTP://WWW.URAWINNER.COM THERE IS A FANTASTIC SURPRISE AWAITING FOR YOU</td>\n",
              "    </tr>\n",
              "    <tr>\n",
              "      <th>4997</th>\n",
              "      <td>spam</td>\n",
              "      <td>U have won a nokia 6230 plus a free digital camera. This is what u get when u win our FREE auction. To take part send NOKIA to 83383 now. POBOX114/14TCR/W1 16</td>\n",
              "    </tr>\n",
              "    <tr>\n",
              "      <th>5406</th>\n",
              "      <td>spam</td>\n",
              "      <td>Urgent! Please call 09061213237 from a landline. å£5000 cash or a 4* holiday await collection. T &amp;Cs SAE PO Box 177 M227XY. 16+</td>\n",
              "    </tr>\n",
              "    <tr>\n",
              "      <th>3298</th>\n",
              "      <td>spam</td>\n",
              "      <td>Think ur smart ? Win å£200 this week in our weekly quiz, text PLAY to 85222 now!T&amp;Cs WinnersClub PO BOX 84, M26 3UZ. 16+. GBP1.50/week</td>\n",
              "    </tr>\n",
              "    <tr>\n",
              "      <th>4187</th>\n",
              "      <td>spam</td>\n",
              "      <td>500 New Mobiles from 2004, MUST GO! Txt: NOKIA to No: 89545 &amp; collect yours today!From ONLY å£1 www.4-tc.biz 2optout 087187262701.50gbp/mtmsg18 TXTAUCTION</td>\n",
              "    </tr>\n",
              "    <tr>\n",
              "      <th>2396</th>\n",
              "      <td>spam</td>\n",
              "      <td>U can WIN å£100 of Music Gift Vouchers every week starting NOW Txt the word DRAW to 87066 TsCs www.Idew.com SkillGame, 1Winaweek, age16. 150ppermessSubscription</td>\n",
              "    </tr>\n",
              "    <tr>\n",
              "      <th>252</th>\n",
              "      <td>spam</td>\n",
              "      <td>Dear Dave this is your final notice to collect your 4* Tenerife Holiday or #5000 CASH award! Call 09061743806 from landline. TCs SAE Box326 CW25WX 150ppm</td>\n",
              "    </tr>\n",
              "    <tr>\n",
              "      <th>1644</th>\n",
              "      <td>spam</td>\n",
              "      <td>WELL DONE! Your 4* Costa Del Sol Holiday or å£5000 await collection. Call 09050090044 Now toClaim. SAE, TCs, POBox334, Stockport, SK38xh, Costå£1.50/pm, Max10mins</td>\n",
              "    </tr>\n",
              "    <tr>\n",
              "      <th>4841</th>\n",
              "      <td>ham</td>\n",
              "      <td>\\HI BABE UAWAKE?FEELLIKW SHIT.JUSTFOUND OUT VIA ALETTER THATMUM GOTMARRIED 4thNOV.BEHIND OURBACKS åÐ FUCKINNICE!SELFISHDEVIOUSBITCH.ANYWAYIåÕL CALL U\\\"\"</td>\n",
              "    </tr>\n",
              "    <tr>\n",
              "      <th>2037</th>\n",
              "      <td>spam</td>\n",
              "      <td>New Mobiles from 2004, MUST GO! Txt: NOKIA to No: 89545 &amp; collect yours today! From ONLY å£1. www.4-tc.biz 2optout 087187262701.50gbp/mtmsg18 TXTAUCTION.</td>\n",
              "    </tr>\n",
              "    <tr>\n",
              "      <th>2570</th>\n",
              "      <td>spam</td>\n",
              "      <td>Urgent! Please call 0906346330. Your ABTA complimentary 4* Spanish Holiday or å£10,000 cash await collection SAE T&amp;Cs BOX 47 PO19 2EZ 150ppm 18+</td>\n",
              "    </tr>\n",
              "    <tr>\n",
              "      <th>2345</th>\n",
              "      <td>spam</td>\n",
              "      <td>URGENT!! Your 4* Costa Del Sol Holiday or å£5000 await collection. Call 09050090044 Now toClaim. SAE, TC s, POBox334, Stockport, SK38xh, Costå£1.50/pm, Max10mins</td>\n",
              "    </tr>\n",
              "    <tr>\n",
              "      <th>5114</th>\n",
              "      <td>spam</td>\n",
              "      <td>You are a å£1000 winner or Guaranteed Caller Prize, this is our Final attempt to contact you! To Claim Call 09071517866 Now! 150ppmPOBox10183BhamB64XE</td>\n",
              "    </tr>\n",
              "  </tbody>\n",
              "</table>\n",
              "</div>"
            ],
            "text/plain": [
              "     label                                                                                                                                                                       text\n",
              "859   spam           Today's Offer! Claim ur å£150 worth of discount vouchers! Text YES to 85023 now! SavaMob, member offers mobile! T Cs 08717898035. å£3.00 Sub. 16 . Unsub reply X\n",
              "3831  spam        +449071512431 URGENT! This is the 2nd attempt to contact U!U have WON å£1250 CALL 09071512433 b4 050703 T&CsBCM4235WC1N3XX. callcost 150ppm mobilesvary. maxå£7. 50\n",
              "1879  spam                           If you don't, your prize will go to another customer. T&C at www.t-c.biz 18+ 150p/min Polo Ltd Suite 373 London W1J 6HL Please call back if busy\n",
              "410   spam  CDs 4u: Congratulations ur awarded å£500 of CD gift vouchers or å£125 gift guaranteed & Freeentry 2 å£100 wkly draw xt MUSIC to 87066 TnCs www.ldew.com1win150ppmx3age16 \n",
              "4620  spam                                                                                 The current leading bid is 151. To pause this auction send OUT. Customer Care: 08718726270\n",
              "2197  spam            Summers finally here! Fancy a chat or flirt with sexy singles in yr area? To get MATCHED up just reply SUMMER now. Free 2 Join. OptOut txt STOP Help08714742804\n",
              "1454   ham                                                                                                                                  HI ITS KATE CAN U GIVE ME A RING ASAP XXX\n",
              "5027  spam        URGENT, IMPORTANT INFORMATION FOR O2 USER. TODAY IS YOUR LUCKY DAY! 2 FIND OUT WHY LOG ONTO HTTP://WWW.URAWINNER.COM THERE IS A FANTASTIC SURPRISE AWAITING FOR YOU\n",
              "4997  spam             U have won a nokia 6230 plus a free digital camera. This is what u get when u win our FREE auction. To take part send NOKIA to 83383 now. POBOX114/14TCR/W1 16\n",
              "5406  spam                                            Urgent! Please call 09061213237 from a landline. å£5000 cash or a 4* holiday await collection. T &Cs SAE PO Box 177 M227XY. 16+\n",
              "3298  spam                                     Think ur smart ? Win å£200 this week in our weekly quiz, text PLAY to 85222 now!T&Cs WinnersClub PO BOX 84, M26 3UZ. 16+. GBP1.50/week\n",
              "4187  spam                 500 New Mobiles from 2004, MUST GO! Txt: NOKIA to No: 89545 & collect yours today!From ONLY å£1 www.4-tc.biz 2optout 087187262701.50gbp/mtmsg18 TXTAUCTION\n",
              "2396  spam           U can WIN å£100 of Music Gift Vouchers every week starting NOW Txt the word DRAW to 87066 TsCs www.Idew.com SkillGame, 1Winaweek, age16. 150ppermessSubscription\n",
              "252   spam                  Dear Dave this is your final notice to collect your 4* Tenerife Holiday or #5000 CASH award! Call 09061743806 from landline. TCs SAE Box326 CW25WX 150ppm\n",
              "1644  spam         WELL DONE! Your 4* Costa Del Sol Holiday or å£5000 await collection. Call 09050090044 Now toClaim. SAE, TCs, POBox334, Stockport, SK38xh, Costå£1.50/pm, Max10mins\n",
              "4841   ham                   \\HI BABE UAWAKE?FEELLIKW SHIT.JUSTFOUND OUT VIA ALETTER THATMUM GOTMARRIED 4thNOV.BEHIND OURBACKS åÐ FUCKINNICE!SELFISHDEVIOUSBITCH.ANYWAYIåÕL CALL U\\\"\"\n",
              "2037  spam                  New Mobiles from 2004, MUST GO! Txt: NOKIA to No: 89545 & collect yours today! From ONLY å£1. www.4-tc.biz 2optout 087187262701.50gbp/mtmsg18 TXTAUCTION.\n",
              "2570  spam                           Urgent! Please call 0906346330. Your ABTA complimentary 4* Spanish Holiday or å£10,000 cash await collection SAE T&Cs BOX 47 PO19 2EZ 150ppm 18+\n",
              "2345  spam          URGENT!! Your 4* Costa Del Sol Holiday or å£5000 await collection. Call 09050090044 Now toClaim. SAE, TC s, POBox334, Stockport, SK38xh, Costå£1.50/pm, Max10mins\n",
              "5114  spam                     You are a å£1000 winner or Guaranteed Caller Prize, this is our Final attempt to contact you! To Claim Call 09071517866 Now! 150ppmPOBox10183BhamB64XE"
            ]
          },
          "metadata": {
            "tags": []
          },
          "execution_count": 24
        }
      ]
    },
    {
      "cell_type": "markdown",
      "metadata": {
        "id": "3pImQsCy_2NS"
      },
      "source": [
        "\n",
        "Now, we create a histogram view of how many LF labels the data points in our train set have to get an idea of our total coverage."
      ]
    },
    {
      "cell_type": "code",
      "metadata": {
        "colab": {
          "base_uri": "https://localhost:8080/",
          "height": 279
        },
        "id": "GefLxZCB8n75",
        "outputId": "c69a0736-23ed-40ad-ac8c-fc371a26d862"
      },
      "source": [
        "import matplotlib.pyplot as plt\n",
        "\n",
        "%matplotlib inline\n",
        "\n",
        "def plot_label_frequency(L):\n",
        "    plt.hist((L != ABSTAIN).sum(axis=1), density=True, bins=range(L.shape[1]))\n",
        "    plt.xlabel(\"Number of labels\")\n",
        "    plt.ylabel(\"Fraction of dataset\")\n",
        "    plt.show()\n",
        "\n",
        "\n",
        "plot_label_frequency(L_train)"
      ],
      "execution_count": null,
      "outputs": [
        {
          "output_type": "display_data",
          "data": {
            "image/png": "[encoded data removed]",
            "text/plain": [
              "<Figure size 432x288 with 1 Axes>"
            ]
          },
          "metadata": {
            "tags": [],
            "needs_background": "light"
          }
        }
      ]
    },
    {
      "cell_type": "markdown",
      "metadata": {
        "id": "KjWM9DAfAhMk"
      },
      "source": [
        "Our next step is to build a generative model based on the LFs. In order to do so, we convert the labels from our LFs into a single column which has noise-aware probablistic model per data point. We can use `MajorityLabelVoter` model that takes a simple majority vote to determine the label for a data point.\n"
      ]
    },
    {
      "cell_type": "code",
      "metadata": {
        "id": "J1d_cq0bq_CF"
      },
      "source": [
        "from snorkel.labeling.model import MajorityLabelVoter\n",
        "\n",
        "majority_model = MajorityLabelVoter()\n",
        "preds_train = majority_model.predict(L=L_train)"
      ],
      "execution_count": null,
      "outputs": []
    },
    {
      "cell_type": "markdown",
      "metadata": {
        "id": "h0TacPd-Jt8g"
      },
      "source": [
        "However, the LFs have varying properties and cannot be treated identically. LFs can be correlated that might results in certain signals being over represented using majority-vote model.\n",
        "\n",
        "Hence, we use `LabelModel` to produce a single set of noise-aware lables, which are probabilistic or confidence-weighted labels."
      ]
    },
    {
      "cell_type": "code",
      "metadata": {
        "id": "w2JPNCB1OzB-"
      },
      "source": [
        "from snorkel.labeling.model import LabelModel\n",
        "label_model = LabelModel(cardinality=2,verbose=True) # cardinality is number of classes 2\n",
        "label_model.fit(L_train,n_epochs=1000, log_freq=100,seed=3)"
      ],
      "execution_count": null,
      "outputs": []
    },
    {
      "cell_type": "code",
      "metadata": {
        "colab": {
          "base_uri": "https://localhost:8080/"
        },
        "id": "EElnFcjIOriq",
        "outputId": "680e5590-56da-4e8b-93fe-ba1e356cfdec"
      },
      "source": [
        "majority_acc = majority_model.score(L=L_test, Y=Y_test, tie_break_policy=\"random\")[\n",
        "    \"accuracy\"\n",
        "]\n",
        "print(f\"{'Majority Vote Accuracy:':<25} {majority_acc * 100:.1f}%\")\n",
        "\n",
        "label_model_acc = label_model.score(L=L_test, Y=Y_test, tie_break_policy=\"random\")[\n",
        "    \"accuracy\"\n",
        "]\n",
        "print(f\"{'Label Model Accuracy:':<25} {label_model_acc * 100:.1f}%\")"
      ],
      "execution_count": null,
      "outputs": [
        {
          "output_type": "stream",
          "text": [
            "Majority Vote Accuracy:   77.0%\n",
            "Label Model Accuracy:     75.9%\n"
          ],
          "name": "stdout"
        }
      ]
    },
    {
      "cell_type": "code",
      "metadata": {
        "id": "1EpSXISrUwL5",
        "colab": {
          "base_uri": "https://localhost:8080/"
        },
        "outputId": "ce78360e-3809-4407-bf7e-333f4e464946"
      },
      "source": [
        "probs_train = label_model.predict_proba(L=L_train)\n",
        "probs_train"
      ],
      "execution_count": null,
      "outputs": [
        {
          "output_type": "execute_result",
          "data": {
            "text/plain": [
              "array([[5.03393836e-01, 4.96606164e-01],\n",
              "       [2.96629706e-01, 7.03370294e-01],\n",
              "       [5.00000000e-01, 5.00000000e-01],\n",
              "       ...,\n",
              "       [9.99801184e-01, 1.98816027e-04],\n",
              "       [5.61574910e-01, 4.38425090e-01],\n",
              "       [2.55167578e-01, 7.44832422e-01]])"
            ]
          },
          "metadata": {
            "tags": []
          },
          "execution_count": 29
        }
      ]
    },
    {
      "cell_type": "markdown",
      "metadata": {
        "id": "49_LP6dBWns7"
      },
      "source": [
        "## Building a discriminator model\n",
        "\n",
        "Now, we have a generative model based on the LFs. However, these models will abstain on the data points our labeling functions don't cover. In the next step, we will use the outputs of the `LabelModel` as training labels to train a discriminative model which can generalize beyond the noisy LFs. This classifier will also only need the text of the comment to make predictions, making it much more suitable for inference over unseen comments"
      ]
    },
    {
      "cell_type": "markdown",
      "metadata": {
        "id": "jfSCCSuocNQC"
      },
      "source": [
        "\n",
        "Checking that the labels the LabelModel produces are probabilistic. The following histogram shows the confidences we have that each data point has the label SPAM."
      ]
    },
    {
      "cell_type": "code",
      "metadata": {
        "id": "ROpedieWUbN1",
        "colab": {
          "base_uri": "https://localhost:8080/",
          "height": 279
        },
        "outputId": "1c16926c-aa44-4b7a-cbdc-b44e2cea7a16"
      },
      "source": [
        "def plot_probabilities_histogram(Y):\n",
        "  plt.hist(Y,bins=10)\n",
        "  plt.xlabel(\"Probability of SPAM\")\n",
        "  plt.ylabel(\"Number of data points\")\n",
        "  plt.show()\n",
        "\n",
        "plot_probabilities_histogram(probs_train[:,1])"
      ],
      "execution_count": null,
      "outputs": [
        {
          "output_type": "display_data",
          "data": {
            "image/png": "[encoded data removed]",
            "text/plain": [
              "<Figure size 432x288 with 1 Axes>"
            ]
          },
          "metadata": {
            "tags": [],
            "needs_background": "light"
          }
        }
      ]
    },
    {
      "cell_type": "markdown",
      "metadata": {
        "id": "f4DlXkxK91jQ"
      },
      "source": [
        "**Filtering out unlabeled data points**\n",
        "\n",
        "As we saw earlier, some of the data points in our train set received no labels from any of our LFs. These data points convey no supervision signal and tend to hurt performance, so we filter them out before training using a built-in utility."
      ]
    },
    {
      "cell_type": "code",
      "metadata": {
        "id": "Qcd7A2-QQZov"
      },
      "source": [
        "from snorkel.labeling import filter_unlabeled_dataframe\n",
        "\n",
        "df_train_filtered, probs_train_filtered = filter_unlabeled_dataframe(\n",
        "    X=df_train, y=probs_train, L=L_train\n",
        ")"
      ],
      "execution_count": null,
      "outputs": []
    },
    {
      "cell_type": "code",
      "metadata": {
        "colab": {
          "base_uri": "https://localhost:8080/"
        },
        "id": "NvloviDrUvPy",
        "outputId": "a701616d-9d1b-405e-885d-bcaa3f4bf056"
      },
      "source": [
        "probs_train.shape"
      ],
      "execution_count": null,
      "outputs": [
        {
          "output_type": "execute_result",
          "data": {
            "text/plain": [
              "(4457, 2)"
            ]
          },
          "metadata": {
            "tags": []
          },
          "execution_count": 32
        }
      ]
    },
    {
      "cell_type": "code",
      "metadata": {
        "colab": {
          "base_uri": "https://localhost:8080/"
        },
        "id": "QG58sv11Qbue",
        "outputId": "1c951103-c66a-4253-81f8-5def79342766"
      },
      "source": [
        "print(f\"{'train filtered:':<20}{df_train_filtered.shape}\")\n",
        "print(f\"{'prob filtered:':<20}{probs_train_filtered.shape}\")"
      ],
      "execution_count": null,
      "outputs": [
        {
          "output_type": "stream",
          "text": [
            "train filtered:     (2845, 2)\n",
            "prob filtered:      (2845, 2)\n"
          ],
          "name": "stdout"
        }
      ]
    },
    {
      "cell_type": "markdown",
      "metadata": {
        "id": "WMqFIwLmcm1Z"
      },
      "source": [
        "**Training a Classifier**\n",
        "\n",
        "In this step, the output of the `LabelModel` is used to train a classifier. The discriminative model learns feature representation of our labeling functions and this makes it better able to generalize to unseen data."
      ]
    },
    {
      "cell_type": "markdown",
      "metadata": {
        "id": "j6J2ibTRh0Ca"
      },
      "source": [
        "Featurization \n",
        "\n",
        "Here, we use a simple \"bag of n-grams\" feature representation: each data point is represented by a one-hot vector marking which words or 2-word combinations are present in the comment text."
      ]
    },
    {
      "cell_type": "code",
      "metadata": {
        "id": "HP1vY0xzRoOs"
      },
      "source": [
        "from sklearn.feature_extraction.text import CountVectorizer\n",
        "\n",
        "vectorizer = CountVectorizer(ngram_range=(1, 5))\n",
        "X_train = vectorizer.fit_transform(df_train_filtered.text.tolist())\n",
        "X_test = vectorizer.transform(df_test.text.tolist())"
      ],
      "execution_count": null,
      "outputs": []
    },
    {
      "cell_type": "code",
      "metadata": {
        "colab": {
          "base_uri": "https://localhost:8080/"
        },
        "id": "Ypx6bcF29g1y",
        "outputId": "3b417c6b-430c-4397-c1af-2f87ed77816c"
      },
      "source": [
        "X_train.shape"
      ],
      "execution_count": null,
      "outputs": [
        {
          "output_type": "execute_result",
          "data": {
            "text/plain": [
              "(2845, 119780)"
            ]
          },
          "metadata": {
            "tags": []
          },
          "execution_count": 35
        }
      ]
    },
    {
      "cell_type": "markdown",
      "metadata": {
        "id": "Oa1cCoZtiHFn"
      },
      "source": [
        "**Logisitic Regression Classifier**\n",
        "\n",
        "First,  we replace each label distribution with the label of the class that has the maximum probability using helper function `probs_to_pred`"
      ]
    },
    {
      "cell_type": "code",
      "metadata": {
        "id": "KzY1YseqYBzS"
      },
      "source": [
        "from snorkel.utils import probs_to_preds\n",
        "\n",
        "preds_train_filtered = probs_to_preds(probs=probs_train_filtered)"
      ],
      "execution_count": null,
      "outputs": []
    },
    {
      "cell_type": "markdown",
      "metadata": {
        "id": "jwlKL1_Fio4n"
      },
      "source": [
        "We use these labels to train our classifier."
      ]
    },
    {
      "cell_type": "code",
      "metadata": {
        "colab": {
          "base_uri": "https://localhost:8080/"
        },
        "id": "mxkTqquMapA_",
        "outputId": "4347c900-4fdd-4db7-945b-01e25d62d93d"
      },
      "source": [
        "from sklearn.linear_model import LogisticRegression\n",
        "from sklearn.metrics import classification_report, confusion_matrix\n",
        "\n",
        "sklearn_model = LogisticRegression(C=1e3, solver=\"liblinear\")\n",
        "sklearn_model.fit(X=X_train, y=preds_train_filtered)"
      ],
      "execution_count": null,
      "outputs": [
        {
          "output_type": "execute_result",
          "data": {
            "text/plain": [
              "LogisticRegression(C=1000.0, class_weight=None, dual=False, fit_intercept=True,\n",
              "                   intercept_scaling=1, l1_ratio=None, max_iter=100,\n",
              "                   multi_class='auto', n_jobs=None, penalty='l2',\n",
              "                   random_state=None, solver='liblinear', tol=0.0001, verbose=0,\n",
              "                   warm_start=False)"
            ]
          },
          "metadata": {
            "tags": []
          },
          "execution_count": 37
        }
      ]
    },
    {
      "cell_type": "code",
      "metadata": {
        "colab": {
          "base_uri": "https://localhost:8080/"
        },
        "id": "rUMjBRZSarrS",
        "outputId": "585b7961-9f80-4520-d061-a5f1ae82f8ed"
      },
      "source": [
        "# checking accuracy\n",
        "print(f\"Test Accuracy: {sklearn_model.score(X=X_test, y=Y_test) * 100:.1f}%\")"
      ],
      "execution_count": null,
      "outputs": [
        {
          "output_type": "stream",
          "text": [
            "Test Accuracy: 94.9%\n"
          ],
          "name": "stdout"
        }
      ]
    },
    {
      "cell_type": "code",
      "metadata": {
        "colab": {
          "base_uri": "https://localhost:8080/",
          "height": 299
        },
        "id": "wdzxBI0MPdwa",
        "outputId": "f35b8c4e-a11c-4bd7-b781-1c513e4fbadc"
      },
      "source": [
        "from sklearn import metrics\n",
        "\n",
        "#predicted probablities for label 1\n",
        "y_pred_prob = sklearn_model.predict_proba(X_test)[:,1]\n",
        "\n",
        "fpr, tpr, thresholds = metrics.roc_curve(Y_test,y_pred_prob,pos_label=1)\n",
        "plt.plot(fpr, tpr, 'b')\n",
        "plt.plot([0,1],[0,1], 'r--')\n",
        "plt.xlabel(\"False Positive Rate\", fontsize=12)\n",
        "plt.ylabel(\"True Positive Rate\", fontsize=12)"
      ],
      "execution_count": null,
      "outputs": [
        {
          "output_type": "execute_result",
          "data": {
            "text/plain": [
              "Text(0, 0.5, 'True Positive Rate')"
            ]
          },
          "metadata": {
            "tags": []
          },
          "execution_count": 39
        },
        {
          "output_type": "display_data",
          "data": {
            "image/png": "[encoded data removed]",
            "text/plain": [
              "<Figure size 432x288 with 1 Axes>"
            ]
          },
          "metadata": {
            "tags": [],
            "needs_background": "light"
          }
        }
      ]
    },
    {
      "cell_type": "code",
      "metadata": {
        "id": "_i2h36hKjR3o",
        "colab": {
          "base_uri": "https://localhost:8080/"
        },
        "outputId": "08cc4035-e437-4c72-c4ee-73237e5dc4f5"
      },
      "source": [
        "metrics.auc(fpr, tpr)"
      ],
      "execution_count": null,
      "outputs": [
        {
          "output_type": "execute_result",
          "data": {
            "text/plain": [
              "0.9458050217460783"
            ]
          },
          "metadata": {
            "tags": []
          },
          "execution_count": 40
        }
      ]
    },
    {
      "cell_type": "markdown",
      "metadata": {
        "id": "zfprjR02bspM"
      },
      "source": [
        "We get a higher accuracy using a Discriminator model over `LabelModel`. This is in part because the discriminative model generalizes beyond the noisy labeling function labels and makes good predictions on all data points, not just the ones covered by the labeling functions. \n",
        "\n",
        "Now, we look at the precision and recall metrics to better understand the model performance."
      ]
    },
    {
      "cell_type": "code",
      "metadata": {
        "id": "IVZMM5B0LKFK"
      },
      "source": [
        "# storing predicted binary values by the model\n",
        "pred = sklearn_model.predict(X_test)"
      ],
      "execution_count": null,
      "outputs": []
    },
    {
      "cell_type": "code",
      "metadata": {
        "colab": {
          "base_uri": "https://localhost:8080/"
        },
        "id": "2xqDUVjEMvIF",
        "outputId": "3d61806c-d9a4-490d-ca3b-120a8a570331"
      },
      "source": [
        "# check classiification metrics\n",
        "print(classification_report(Y_test, pred))"
      ],
      "execution_count": null,
      "outputs": [
        {
          "output_type": "stream",
          "text": [
            "              precision    recall  f1-score   support\n",
            "\n",
            "           0       0.95      1.00      0.97       966\n",
            "           1       0.97      0.64      0.77       149\n",
            "\n",
            "    accuracy                           0.95      1115\n",
            "   macro avg       0.96      0.82      0.87      1115\n",
            "weighted avg       0.95      0.95      0.94      1115\n",
            "\n"
          ],
          "name": "stdout"
        }
      ]
    },
    {
      "cell_type": "code",
      "metadata": {
        "colab": {
          "base_uri": "https://localhost:8080/",
          "height": 211
        },
        "id": "BRfnnJMoOafB",
        "outputId": "083f83ea-58f1-4250-abb5-a4438412ac1f"
      },
      "source": [
        "# plot the confusion matrix\n",
        "cm = confusion_matrix(Y_test, pred)\n",
        "\n",
        "plt.rcParams['xtick.top'] = plt.rcParams['xtick.labeltop'] = True\n",
        "plt.rcParams['xtick.bottom'] = plt.rcParams['xtick.labelbottom'] = False\n",
        "fig, ax = plt.subplots(figsize=(4, 3))\n",
        "ax.imshow(cm)\n",
        "ax.grid(False)\n",
        "ax.xaxis.set(ticks=(0, 1), ticklabels=('Predicted 0s', 'Predicted 1s'))\n",
        "ax.yaxis.set(ticks=(0, 1), ticklabels=('Actual 0s', 'Actual 1s'))\n",
        "ax.set_ylim(1.5, -0.5)\n",
        "\n",
        "for i in range(2):\n",
        "    for j in range(2):\n",
        "        ax.text(j, i, cm[i, j], ha='center', va='center', color='red')\n",
        "plt.show()"
      ],
      "execution_count": null,
      "outputs": [
        {
          "output_type": "display_data",
          "data": {
            "image/png": "[encoded data removed]",
            "text/plain": [
              "<Figure size 288x216 with 1 Axes>"
            ]
          },
          "metadata": {
            "tags": [],
            "needs_background": "light"
          }
        }
      ]
    },
    {
      "cell_type": "markdown",
      "metadata": {
        "id": "VPR2paIbhM22"
      },
      "source": [
        "\n",
        "By looking at the classification matrix, we see that model has a good precision which is good in a way as it is labelling the very minimal HAM messages as SPAM. However, the recall is a bit low which suggests that there is scope for improvement in model performance.\n",
        "\n",
        "- The first approach could be hypertuning the model parameters. Selecting only those words/tokens the occur most frequently while tokenizing the data. Changing the default regularization and norm pararmeters in the logistic regression model.\n",
        "\n",
        "- The second approach would be to use more complex deep learning models but that might require more data points as these models are data hungry."
      ]
    },
    {
      "cell_type": "markdown",
      "metadata": {
        "id": "wGcGwowR6nE0"
      },
      "source": [
        "## References:\n",
        "\n",
        "1. https://github.com/snorkel-team/snorkel-tutorials/blob/master/spam/01_spam_tutorial.ipynb\n",
        "\n",
        "2. https://www.snorkel.org/blog/weak-supervision\n",
        "\n",
        "3. https://medium.com/@annalara/understanding-snorkel-5e33351aa43b"
      ]
    }
  ]
}